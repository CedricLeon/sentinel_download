{
 "cells": [
  {
   "cell_type": "code",
   "execution_count": 1,
   "metadata": {},
   "outputs": [],
   "source": [
    "from sentinel_datasource.alaska_satellite_facility import ASF \n",
    "from datetime import datetime, timedelta"
   ]
  },
  {
   "cell_type": "code",
   "execution_count": 11,
   "metadata": {},
   "outputs": [
    {
     "name": "stdout",
     "output_type": "stream",
     "text": [
      "Available Sentinel products on Alaska Satellite Facility platform:\n",
      "{'Sentinel-1': ['RAW', 'SLC', 'GRD', 'OCN']}\n"
     ]
    }
   ],
   "source": [
    "# ASF search \n",
    "asf = ASF()\n",
    "print(\"Available Sentinel products on Alaska Satellite Facility platform:\")\n",
    "print(asf.collections_with_products)"
   ]
  },
  {
   "cell_type": "code",
   "execution_count": 9,
   "metadata": {},
   "outputs": [
    {
     "name": "stdout",
     "output_type": "stream",
     "text": [
      "2 results found.\n",
      "File ID of first result:  S1A_IW_SLC__1SDV_20231211T031749_20231211T031817_051601_063AE5_BD34-SLC\n",
      "Properties:  [{'beamModeType': 'IW', 'browse': None, 'bytes': 8142506486, 'centerLat': -20.5231, 'centerLon': 33.0129, 'faradayRotation': None, 'fileID': 'S1A_IW_SLC__1SDV_20231211T031749_20231211T031817_051601_063AE5_BD34-SLC', 'flightDirection': 'DESCENDING', 'groupID': 'S1A_IWDV_0659_0666_051601_079', 'granuleType': 'SENTINEL_1A_FRAME', 'insarStackId': None, 'md5sum': '84ca23f3756605d6e9099b064b93c506', 'offNadirAngle': None, 'orbit': 51601, 'pathNumber': 79, 'platform': 'Sentinel-1A', 'pointingAngle': None, 'polarization': 'VV+VH', 'processingDate': '2023-12-11T03:17:49.845Z', 'processingLevel': 'SLC', 'sceneName': 'S1A_IW_SLC__1SDV_20231211T031749_20231211T031817_051601_063AE5_BD34', 'sensor': 'C-SAR', 'startTime': '2023-12-11T03:17:49.845Z', 'stopTime': '2023-12-11T03:18:17.759Z', 'url': 'https://datapool.asf.alaska.edu/SLC/SA/S1A_IW_SLC__1SDV_20231211T031749_20231211T031817_051601_063AE5_BD34.zip', 'pgeVersion': '003.71', 'fileName': 'S1A_IW_SLC__1SDV_20231211T031749_20231211T031817_051601_063AE5_BD34.zip', 'frameNumber': 659}, {'beamModeType': 'IW', 'browse': None, 'bytes': 7833104222, 'centerLat': -19.0026, 'centerLon': 33.3987, 'faradayRotation': None, 'fileID': 'S1A_IW_SLC__1SDV_20231211T031725_20231211T031751_051601_063AE5_68B7-SLC', 'flightDirection': 'DESCENDING', 'groupID': 'S1A_IWDV_0654_0661_051601_079', 'granuleType': 'SENTINEL_1A_FRAME', 'insarStackId': None, 'md5sum': '7fe83deea4ac78d45d872e22e59d2b5c', 'offNadirAngle': None, 'orbit': 51601, 'pathNumber': 79, 'platform': 'Sentinel-1A', 'pointingAngle': None, 'polarization': 'VV+VH', 'processingDate': '2023-12-11T03:17:25.022Z', 'processingLevel': 'SLC', 'sceneName': 'S1A_IW_SLC__1SDV_20231211T031725_20231211T031751_051601_063AE5_68B7', 'sensor': 'C-SAR', 'startTime': '2023-12-11T03:17:25.022Z', 'stopTime': '2023-12-11T03:17:51.968Z', 'url': 'https://datapool.asf.alaska.edu/SLC/SA/S1A_IW_SLC__1SDV_20231211T031725_20231211T031751_051601_063AE5_68B7.zip', 'pgeVersion': '003.71', 'fileName': 'S1A_IW_SLC__1SDV_20231211T031725_20231211T031751_051601_063AE5_68B7.zip', 'frameNumber': 655}]\n"
     ]
    }
   ],
   "source": [
    "search_parameters = {\n",
    "    'collection': 'Sentinel-1',\n",
    "    'processingLevel': 'SLC',\n",
    "    'start' : datetime.now() - timedelta(days=15),\n",
    "    'end' : datetime.now(),\n",
    "    'shapefile': \"/p/project/hai_wemonitor/S2LS/data/locations/Chimanimani/annotations/Chimanimani.shp\"\n",
    "}\n",
    "asf_results = asf.search(search_parameters)\n",
    "print(\"File ID of first result: \", asf_results[0].properties[\"fileID\"] )\n",
    "print(\"Properties: \", [result.properties for result in asf_results])"
   ]
  },
  {
   "cell_type": "code",
   "execution_count": null,
   "metadata": {},
   "outputs": [],
   "source": [
    "# ASF preprocess - Authentication is required. For this you need an earthdata nasa account.\n",
    "asf.activate_session(credentials={'username': 'your_username', 'password': 'your_password' })\n",
    "rtc_jobs = asf.start_rtc_jobs(asf_results, name=\"rtc_jobs\") # you can modify asf search result, e.g. remove items for single download\n",
    "print(rtc_jobs)"
   ]
  },
  {
   "cell_type": "code",
   "execution_count": null,
   "metadata": {},
   "outputs": [],
   "source": [
    "# ASF download\n",
    "downloaded_files = asf.download_jobs(job_name=\"rtc_jobs\")\n",
    "print(downloaded_files)"
   ]
  }
 ],
 "metadata": {
  "kernelspec": {
   "display_name": "sat_preprocess",
   "language": "python",
   "name": "python3"
  },
  "language_info": {
   "codemirror_mode": {
    "name": "ipython",
    "version": 3
   },
   "file_extension": ".py",
   "mimetype": "text/x-python",
   "name": "python",
   "nbconvert_exporter": "python",
   "pygments_lexer": "ipython3",
   "version": "3.12.0"
  }
 },
 "nbformat": 4,
 "nbformat_minor": 2
}
