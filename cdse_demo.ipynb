{
 "cells": [
  {
   "cell_type": "code",
   "execution_count": 1,
   "metadata": {},
   "outputs": [],
   "source": [
    "from sentinel_datasource.copernicus_dataspace import CDSE\n",
    "from datetime import datetime, timedelta"
   ]
  },
  {
   "cell_type": "code",
   "execution_count": 2,
   "metadata": {},
   "outputs": [
    {
     "name": "stdout",
     "output_type": "stream",
     "text": [
      "Available Sentinel products on Copernicus Data Space Ecosystem:\n",
      "{'SENTINEL-1': ['SLC', 'GRD', 'RTC'], 'SENTINEL-2': []}\n"
     ]
    }
   ],
   "source": [
    "# CDSE search \n",
    "credentials_jsonpath=\"/p/project/hai_wemonitor/S2LS/src/preprocessing/cdse_credentials.json\"\n",
    "cdse = CDSE(credentials_jsonpath)\n",
    "print(\"Available Sentinel products on Copernicus Data Space Ecosystem:\")\n",
    "print(cdse.collections_with_products)"
   ]
  },
  {
   "cell_type": "code",
   "execution_count": 3,
   "metadata": {},
   "outputs": [
    {
     "name": "stdout",
     "output_type": "stream",
     "text": [
      "Found 2 results.\n",
      "File ID of first item:  S1A_IW_SLC__1SDV_20231211T031725_20231211T031751_051601_063AE5_68B7.SAFE\n",
      "Properties:  {'@odata.mediaContentType': 'application/octet-stream', 'Id': '9d3efbba-312e-47ef-b496-43646fd52706', 'Name': 'S1A_IW_SLC__1SDV_20231211T031725_20231211T031751_051601_063AE5_68B7.SAFE', 'ContentType': 'application/octet-stream', 'ContentLength': 7833104222, 'OriginDate': '2023-12-11T07:36:34.137Z', 'PublicationDate': '2023-12-11T07:45:35.989Z', 'ModificationDate': '2023-12-11T07:46:57.268Z', 'Online': True, 'EvictionDate': '', 'S3Path': '/eodata/Sentinel-1/SAR/IW_SLC__1S/2023/12/11/S1A_IW_SLC__1SDV_20231211T031725_20231211T031751_051601_063AE5_68B7.SAFE', 'Checksum': [{'Value': '7fe83deea4ac78d45d872e22e59d2b5c', 'Algorithm': 'MD5', 'ChecksumDate': '2023-12-11T07:46:36.485193Z'}, {'Value': '2d456fb3e9560bd17e2f864b0fe28bcb1bb677bd3a584c0230fdc56f59e7d65f', 'Algorithm': 'BLAKE3', 'ChecksumDate': '2023-12-11T07:46:57.162600Z'}], 'ContentDate': {'Start': '2023-12-11T03:17:25.022Z', 'End': '2023-12-11T03:17:51.969Z'}, 'Footprint': \"geography'SRID=4326;POLYGON ((34.380409 -20.086021, 34.780041 -18.464144, 32.430676 -17.914835, 32.006538 -19.528681, 34.380409 -20.086021))'\", 'GeoFootprint': {'type': 'Polygon', 'coordinates': [[[34.380409, -20.086021], [34.780041, -18.464144], [32.430676, -17.914835], [32.006538, -19.528681], [34.380409, -20.086021]]]}}\n"
     ]
    }
   ],
   "source": [
    "search_parameters = {\n",
    "    'collection': 'SENTINEL-1',\n",
    "    'product': 'SLC',\n",
    "    'start' : datetime.now() - timedelta(days=15),\n",
    "    'end' : datetime.now(),\n",
    "    'shapefile': \"/p/project/hai_wemonitor/S2LS/data/locations/Chimanimani/annotations/Chimanimani.shp\"\n",
    "}\n",
    "cdse_result = cdse.search_odata(search_parameters)\n",
    "print(\"File ID of first item: \", cdse_result[0][\"Name\"])\n",
    "print(\"Properties: \", cdse_result[0])"
   ]
  },
  {
   "cell_type": "code",
   "execution_count": 4,
   "metadata": {},
   "outputs": [],
   "source": [
    "# file should contain: {'access_key':'your_access_key, 'secret_key': 'your_secret_key'} as JSON\n",
    "cdse.set_aws_keys(aws_keys_jsonpath=\"/p/project/hai_wemonitor/S2LS/src/preprocessing/s3_credentials.json\")"
   ]
  },
  {
   "cell_type": "code",
   "execution_count": 5,
   "metadata": {},
   "outputs": [
    {
     "name": "stdout",
     "output_type": "stream",
     "text": [
      "Starting download of data via AWS-S3 in folder:  /p/project/hai_wemonitor/S2LS/src/sentinel_download/sentinel-1-slc/S1A_IW_SLC__1SDV_20231211T031725_20231211T031751_051601_063AE5_68B7\n"
     ]
    },
    {
     "name": "stdout",
     "output_type": "stream",
     "text": [
      "Downloaded Sentinel-1/SAR/IW_SLC__1S/2023/12/11/S1A_IW_SLC__1SDV_20231211T031725_20231211T031751_051601_063AE5_68B7.SAFE/S1A_IW_SLC__1SDV_20231211T031725_20231211T031751_051601_063AE5_68B7.SAFE-report-20231211T073031.pdf to /p/project/hai_wemonitor/S2LS/src/sentinel_download/sentinel-1-slc/S1A_IW_SLC__1SDV_20231211T031725_20231211T031751_051601_063AE5_68B7/S1A_IW_SLC__1SDV_20231211T031725_20231211T031751_051601_063AE5_68B7.SAFE-report-20231211T073031.pdf\n",
      "Downloaded Sentinel-1/SAR/IW_SLC__1S/2023/12/11/S1A_IW_SLC__1SDV_20231211T031725_20231211T031751_051601_063AE5_68B7.SAFE/annotation/calibration/calibration-s1a-iw1-slc-vh-20231211t031726-20231211t031751-051601-063ae5-001.xml to /p/project/hai_wemonitor/S2LS/src/sentinel_download/sentinel-1-slc/S1A_IW_SLC__1SDV_20231211T031725_20231211T031751_051601_063AE5_68B7/calibration-s1a-iw1-slc-vh-20231211t031726-20231211t031751-051601-063ae5-001.xml\n",
      "Downloaded Sentinel-1/SAR/IW_SLC__1S/2023/12/11/S1A_IW_SLC__1SDV_20231211T031725_20231211T031751_051601_063AE5_68B7.SAFE/annotation/calibration/calibration-s1a-iw1-slc-vv-20231211t031726-20231211t031751-051601-063ae5-004.xml to /p/project/hai_wemonitor/S2LS/src/sentinel_download/sentinel-1-slc/S1A_IW_SLC__1SDV_20231211T031725_20231211T031751_051601_063AE5_68B7/calibration-s1a-iw1-slc-vv-20231211t031726-20231211t031751-051601-063ae5-004.xml\n",
      "Downloaded Sentinel-1/SAR/IW_SLC__1S/2023/12/11/S1A_IW_SLC__1SDV_20231211T031725_20231211T031751_051601_063AE5_68B7.SAFE/annotation/calibration/calibration-s1a-iw2-slc-vh-20231211t031725-20231211t031750-051601-063ae5-002.xml to /p/project/hai_wemonitor/S2LS/src/sentinel_download/sentinel-1-slc/S1A_IW_SLC__1SDV_20231211T031725_20231211T031751_051601_063AE5_68B7/calibration-s1a-iw2-slc-vh-20231211t031725-20231211t031750-051601-063ae5-002.xml\n",
      "Downloaded Sentinel-1/SAR/IW_SLC__1S/2023/12/11/S1A_IW_SLC__1SDV_20231211T031725_20231211T031751_051601_063AE5_68B7.SAFE/annotation/calibration/calibration-s1a-iw2-slc-vv-20231211t031725-20231211t031750-051601-063ae5-005.xml to /p/project/hai_wemonitor/S2LS/src/sentinel_download/sentinel-1-slc/S1A_IW_SLC__1SDV_20231211T031725_20231211T031751_051601_063AE5_68B7/calibration-s1a-iw2-slc-vv-20231211t031725-20231211t031750-051601-063ae5-005.xml\n",
      "Downloaded Sentinel-1/SAR/IW_SLC__1S/2023/12/11/S1A_IW_SLC__1SDV_20231211T031725_20231211T031751_051601_063AE5_68B7.SAFE/annotation/calibration/calibration-s1a-iw3-slc-vh-20231211t031725-20231211t031751-051601-063ae5-003.xml to /p/project/hai_wemonitor/S2LS/src/sentinel_download/sentinel-1-slc/S1A_IW_SLC__1SDV_20231211T031725_20231211T031751_051601_063AE5_68B7/calibration-s1a-iw3-slc-vh-20231211t031725-20231211t031751-051601-063ae5-003.xml\n",
      "Downloaded Sentinel-1/SAR/IW_SLC__1S/2023/12/11/S1A_IW_SLC__1SDV_20231211T031725_20231211T031751_051601_063AE5_68B7.SAFE/annotation/calibration/calibration-s1a-iw3-slc-vv-20231211t031725-20231211t031751-051601-063ae5-006.xml to /p/project/hai_wemonitor/S2LS/src/sentinel_download/sentinel-1-slc/S1A_IW_SLC__1SDV_20231211T031725_20231211T031751_051601_063AE5_68B7/calibration-s1a-iw3-slc-vv-20231211t031725-20231211t031751-051601-063ae5-006.xml\n",
      "Downloaded Sentinel-1/SAR/IW_SLC__1S/2023/12/11/S1A_IW_SLC__1SDV_20231211T031725_20231211T031751_051601_063AE5_68B7.SAFE/annotation/calibration/noise-s1a-iw1-slc-vh-20231211t031726-20231211t031751-051601-063ae5-001.xml to /p/project/hai_wemonitor/S2LS/src/sentinel_download/sentinel-1-slc/S1A_IW_SLC__1SDV_20231211T031725_20231211T031751_051601_063AE5_68B7/noise-s1a-iw1-slc-vh-20231211t031726-20231211t031751-051601-063ae5-001.xml\n",
      "Downloaded Sentinel-1/SAR/IW_SLC__1S/2023/12/11/S1A_IW_SLC__1SDV_20231211T031725_20231211T031751_051601_063AE5_68B7.SAFE/annotation/calibration/noise-s1a-iw1-slc-vv-20231211t031726-20231211t031751-051601-063ae5-004.xml to /p/project/hai_wemonitor/S2LS/src/sentinel_download/sentinel-1-slc/S1A_IW_SLC__1SDV_20231211T031725_20231211T031751_051601_063AE5_68B7/noise-s1a-iw1-slc-vv-20231211t031726-20231211t031751-051601-063ae5-004.xml\n",
      "Downloaded Sentinel-1/SAR/IW_SLC__1S/2023/12/11/S1A_IW_SLC__1SDV_20231211T031725_20231211T031751_051601_063AE5_68B7.SAFE/annotation/calibration/noise-s1a-iw2-slc-vh-20231211t031725-20231211t031750-051601-063ae5-002.xml to /p/project/hai_wemonitor/S2LS/src/sentinel_download/sentinel-1-slc/S1A_IW_SLC__1SDV_20231211T031725_20231211T031751_051601_063AE5_68B7/noise-s1a-iw2-slc-vh-20231211t031725-20231211t031750-051601-063ae5-002.xml\n",
      "Downloaded Sentinel-1/SAR/IW_SLC__1S/2023/12/11/S1A_IW_SLC__1SDV_20231211T031725_20231211T031751_051601_063AE5_68B7.SAFE/annotation/calibration/noise-s1a-iw2-slc-vv-20231211t031725-20231211t031750-051601-063ae5-005.xml to /p/project/hai_wemonitor/S2LS/src/sentinel_download/sentinel-1-slc/S1A_IW_SLC__1SDV_20231211T031725_20231211T031751_051601_063AE5_68B7/noise-s1a-iw2-slc-vv-20231211t031725-20231211t031750-051601-063ae5-005.xml\n",
      "Downloaded Sentinel-1/SAR/IW_SLC__1S/2023/12/11/S1A_IW_SLC__1SDV_20231211T031725_20231211T031751_051601_063AE5_68B7.SAFE/annotation/calibration/noise-s1a-iw3-slc-vh-20231211t031725-20231211t031751-051601-063ae5-003.xml to /p/project/hai_wemonitor/S2LS/src/sentinel_download/sentinel-1-slc/S1A_IW_SLC__1SDV_20231211T031725_20231211T031751_051601_063AE5_68B7/noise-s1a-iw3-slc-vh-20231211t031725-20231211t031751-051601-063ae5-003.xml\n",
      "Downloaded Sentinel-1/SAR/IW_SLC__1S/2023/12/11/S1A_IW_SLC__1SDV_20231211T031725_20231211T031751_051601_063AE5_68B7.SAFE/annotation/calibration/noise-s1a-iw3-slc-vv-20231211t031725-20231211t031751-051601-063ae5-006.xml to /p/project/hai_wemonitor/S2LS/src/sentinel_download/sentinel-1-slc/S1A_IW_SLC__1SDV_20231211T031725_20231211T031751_051601_063AE5_68B7/noise-s1a-iw3-slc-vv-20231211t031725-20231211t031751-051601-063ae5-006.xml\n",
      "Downloaded Sentinel-1/SAR/IW_SLC__1S/2023/12/11/S1A_IW_SLC__1SDV_20231211T031725_20231211T031751_051601_063AE5_68B7.SAFE/annotation/rfi/rfi-s1a-iw1-slc-vh-20231211t031726-20231211t031751-051601-063ae5-001.xml to /p/project/hai_wemonitor/S2LS/src/sentinel_download/sentinel-1-slc/S1A_IW_SLC__1SDV_20231211T031725_20231211T031751_051601_063AE5_68B7/rfi-s1a-iw1-slc-vh-20231211t031726-20231211t031751-051601-063ae5-001.xml\n",
      "Downloaded Sentinel-1/SAR/IW_SLC__1S/2023/12/11/S1A_IW_SLC__1SDV_20231211T031725_20231211T031751_051601_063AE5_68B7.SAFE/annotation/rfi/rfi-s1a-iw1-slc-vv-20231211t031726-20231211t031751-051601-063ae5-004.xml to /p/project/hai_wemonitor/S2LS/src/sentinel_download/sentinel-1-slc/S1A_IW_SLC__1SDV_20231211T031725_20231211T031751_051601_063AE5_68B7/rfi-s1a-iw1-slc-vv-20231211t031726-20231211t031751-051601-063ae5-004.xml\n",
      "Downloaded Sentinel-1/SAR/IW_SLC__1S/2023/12/11/S1A_IW_SLC__1SDV_20231211T031725_20231211T031751_051601_063AE5_68B7.SAFE/annotation/rfi/rfi-s1a-iw2-slc-vh-20231211t031725-20231211t031750-051601-063ae5-002.xml to /p/project/hai_wemonitor/S2LS/src/sentinel_download/sentinel-1-slc/S1A_IW_SLC__1SDV_20231211T031725_20231211T031751_051601_063AE5_68B7/rfi-s1a-iw2-slc-vh-20231211t031725-20231211t031750-051601-063ae5-002.xml\n",
      "Downloaded Sentinel-1/SAR/IW_SLC__1S/2023/12/11/S1A_IW_SLC__1SDV_20231211T031725_20231211T031751_051601_063AE5_68B7.SAFE/annotation/rfi/rfi-s1a-iw2-slc-vv-20231211t031725-20231211t031750-051601-063ae5-005.xml to /p/project/hai_wemonitor/S2LS/src/sentinel_download/sentinel-1-slc/S1A_IW_SLC__1SDV_20231211T031725_20231211T031751_051601_063AE5_68B7/rfi-s1a-iw2-slc-vv-20231211t031725-20231211t031750-051601-063ae5-005.xml\n",
      "Downloaded Sentinel-1/SAR/IW_SLC__1S/2023/12/11/S1A_IW_SLC__1SDV_20231211T031725_20231211T031751_051601_063AE5_68B7.SAFE/annotation/rfi/rfi-s1a-iw3-slc-vh-20231211t031725-20231211t031751-051601-063ae5-003.xml to /p/project/hai_wemonitor/S2LS/src/sentinel_download/sentinel-1-slc/S1A_IW_SLC__1SDV_20231211T031725_20231211T031751_051601_063AE5_68B7/rfi-s1a-iw3-slc-vh-20231211t031725-20231211t031751-051601-063ae5-003.xml\n",
      "Downloaded Sentinel-1/SAR/IW_SLC__1S/2023/12/11/S1A_IW_SLC__1SDV_20231211T031725_20231211T031751_051601_063AE5_68B7.SAFE/annotation/rfi/rfi-s1a-iw3-slc-vv-20231211t031725-20231211t031751-051601-063ae5-006.xml to /p/project/hai_wemonitor/S2LS/src/sentinel_download/sentinel-1-slc/S1A_IW_SLC__1SDV_20231211T031725_20231211T031751_051601_063AE5_68B7/rfi-s1a-iw3-slc-vv-20231211t031725-20231211t031751-051601-063ae5-006.xml\n",
      "Downloaded Sentinel-1/SAR/IW_SLC__1S/2023/12/11/S1A_IW_SLC__1SDV_20231211T031725_20231211T031751_051601_063AE5_68B7.SAFE/annotation/s1a-iw1-slc-vh-20231211t031726-20231211t031751-051601-063ae5-001.xml to /p/project/hai_wemonitor/S2LS/src/sentinel_download/sentinel-1-slc/S1A_IW_SLC__1SDV_20231211T031725_20231211T031751_051601_063AE5_68B7/s1a-iw1-slc-vh-20231211t031726-20231211t031751-051601-063ae5-001.xml\n",
      "Downloaded Sentinel-1/SAR/IW_SLC__1S/2023/12/11/S1A_IW_SLC__1SDV_20231211T031725_20231211T031751_051601_063AE5_68B7.SAFE/annotation/s1a-iw1-slc-vv-20231211t031726-20231211t031751-051601-063ae5-004.xml to /p/project/hai_wemonitor/S2LS/src/sentinel_download/sentinel-1-slc/S1A_IW_SLC__1SDV_20231211T031725_20231211T031751_051601_063AE5_68B7/s1a-iw1-slc-vv-20231211t031726-20231211t031751-051601-063ae5-004.xml\n",
      "Downloaded Sentinel-1/SAR/IW_SLC__1S/2023/12/11/S1A_IW_SLC__1SDV_20231211T031725_20231211T031751_051601_063AE5_68B7.SAFE/annotation/s1a-iw2-slc-vh-20231211t031725-20231211t031750-051601-063ae5-002.xml to /p/project/hai_wemonitor/S2LS/src/sentinel_download/sentinel-1-slc/S1A_IW_SLC__1SDV_20231211T031725_20231211T031751_051601_063AE5_68B7/s1a-iw2-slc-vh-20231211t031725-20231211t031750-051601-063ae5-002.xml\n",
      "Downloaded Sentinel-1/SAR/IW_SLC__1S/2023/12/11/S1A_IW_SLC__1SDV_20231211T031725_20231211T031751_051601_063AE5_68B7.SAFE/annotation/s1a-iw2-slc-vv-20231211t031725-20231211t031750-051601-063ae5-005.xml to /p/project/hai_wemonitor/S2LS/src/sentinel_download/sentinel-1-slc/S1A_IW_SLC__1SDV_20231211T031725_20231211T031751_051601_063AE5_68B7/s1a-iw2-slc-vv-20231211t031725-20231211t031750-051601-063ae5-005.xml\n",
      "Downloaded Sentinel-1/SAR/IW_SLC__1S/2023/12/11/S1A_IW_SLC__1SDV_20231211T031725_20231211T031751_051601_063AE5_68B7.SAFE/annotation/s1a-iw3-slc-vh-20231211t031725-20231211t031751-051601-063ae5-003.xml to /p/project/hai_wemonitor/S2LS/src/sentinel_download/sentinel-1-slc/S1A_IW_SLC__1SDV_20231211T031725_20231211T031751_051601_063AE5_68B7/s1a-iw3-slc-vh-20231211t031725-20231211t031751-051601-063ae5-003.xml\n",
      "Downloaded Sentinel-1/SAR/IW_SLC__1S/2023/12/11/S1A_IW_SLC__1SDV_20231211T031725_20231211T031751_051601_063AE5_68B7.SAFE/annotation/s1a-iw3-slc-vv-20231211t031725-20231211t031751-051601-063ae5-006.xml to /p/project/hai_wemonitor/S2LS/src/sentinel_download/sentinel-1-slc/S1A_IW_SLC__1SDV_20231211T031725_20231211T031751_051601_063AE5_68B7/s1a-iw3-slc-vv-20231211t031725-20231211t031751-051601-063ae5-006.xml\n",
      "Downloaded Sentinel-1/SAR/IW_SLC__1S/2023/12/11/S1A_IW_SLC__1SDV_20231211T031725_20231211T031751_051601_063AE5_68B7.SAFE/manifest.safe to /p/project/hai_wemonitor/S2LS/src/sentinel_download/sentinel-1-slc/S1A_IW_SLC__1SDV_20231211T031725_20231211T031751_051601_063AE5_68B7/manifest.safe\n",
      "Downloaded Sentinel-1/SAR/IW_SLC__1S/2023/12/11/S1A_IW_SLC__1SDV_20231211T031725_20231211T031751_051601_063AE5_68B7.SAFE/measurement/s1a-iw1-slc-vh-20231211t031726-20231211t031751-051601-063ae5-001.tiff to /p/project/hai_wemonitor/S2LS/src/sentinel_download/sentinel-1-slc/S1A_IW_SLC__1SDV_20231211T031725_20231211T031751_051601_063AE5_68B7/s1a-iw1-slc-vh-20231211t031726-20231211t031751-051601-063ae5-001.tiff\n",
      "Downloaded Sentinel-1/SAR/IW_SLC__1S/2023/12/11/S1A_IW_SLC__1SDV_20231211T031725_20231211T031751_051601_063AE5_68B7.SAFE/measurement/s1a-iw1-slc-vv-20231211t031726-20231211t031751-051601-063ae5-004.tiff to /p/project/hai_wemonitor/S2LS/src/sentinel_download/sentinel-1-slc/S1A_IW_SLC__1SDV_20231211T031725_20231211T031751_051601_063AE5_68B7/s1a-iw1-slc-vv-20231211t031726-20231211t031751-051601-063ae5-004.tiff\n",
      "Downloaded Sentinel-1/SAR/IW_SLC__1S/2023/12/11/S1A_IW_SLC__1SDV_20231211T031725_20231211T031751_051601_063AE5_68B7.SAFE/measurement/s1a-iw2-slc-vh-20231211t031725-20231211t031750-051601-063ae5-002.tiff to /p/project/hai_wemonitor/S2LS/src/sentinel_download/sentinel-1-slc/S1A_IW_SLC__1SDV_20231211T031725_20231211T031751_051601_063AE5_68B7/s1a-iw2-slc-vh-20231211t031725-20231211t031750-051601-063ae5-002.tiff\n",
      "Downloaded Sentinel-1/SAR/IW_SLC__1S/2023/12/11/S1A_IW_SLC__1SDV_20231211T031725_20231211T031751_051601_063AE5_68B7.SAFE/measurement/s1a-iw2-slc-vv-20231211t031725-20231211t031750-051601-063ae5-005.tiff to /p/project/hai_wemonitor/S2LS/src/sentinel_download/sentinel-1-slc/S1A_IW_SLC__1SDV_20231211T031725_20231211T031751_051601_063AE5_68B7/s1a-iw2-slc-vv-20231211t031725-20231211t031750-051601-063ae5-005.tiff\n",
      "Downloaded Sentinel-1/SAR/IW_SLC__1S/2023/12/11/S1A_IW_SLC__1SDV_20231211T031725_20231211T031751_051601_063AE5_68B7.SAFE/measurement/s1a-iw3-slc-vh-20231211t031725-20231211t031751-051601-063ae5-003.tiff to /p/project/hai_wemonitor/S2LS/src/sentinel_download/sentinel-1-slc/S1A_IW_SLC__1SDV_20231211T031725_20231211T031751_051601_063AE5_68B7/s1a-iw3-slc-vh-20231211t031725-20231211t031751-051601-063ae5-003.tiff\n",
      "Downloaded Sentinel-1/SAR/IW_SLC__1S/2023/12/11/S1A_IW_SLC__1SDV_20231211T031725_20231211T031751_051601_063AE5_68B7.SAFE/measurement/s1a-iw3-slc-vv-20231211t031725-20231211t031751-051601-063ae5-006.tiff to /p/project/hai_wemonitor/S2LS/src/sentinel_download/sentinel-1-slc/S1A_IW_SLC__1SDV_20231211T031725_20231211T031751_051601_063AE5_68B7/s1a-iw3-slc-vv-20231211t031725-20231211t031751-051601-063ae5-006.tiff\n",
      "Downloaded Sentinel-1/SAR/IW_SLC__1S/2023/12/11/S1A_IW_SLC__1SDV_20231211T031725_20231211T031751_051601_063AE5_68B7.SAFE/preview/icons/logo.png to /p/project/hai_wemonitor/S2LS/src/sentinel_download/sentinel-1-slc/S1A_IW_SLC__1SDV_20231211T031725_20231211T031751_051601_063AE5_68B7/logo.png\n",
      "Downloaded Sentinel-1/SAR/IW_SLC__1S/2023/12/11/S1A_IW_SLC__1SDV_20231211T031725_20231211T031751_051601_063AE5_68B7.SAFE/preview/map-overlay.kml to /p/project/hai_wemonitor/S2LS/src/sentinel_download/sentinel-1-slc/S1A_IW_SLC__1SDV_20231211T031725_20231211T031751_051601_063AE5_68B7/map-overlay.kml\n",
      "Downloaded Sentinel-1/SAR/IW_SLC__1S/2023/12/11/S1A_IW_SLC__1SDV_20231211T031725_20231211T031751_051601_063AE5_68B7.SAFE/preview/product-preview.html to /p/project/hai_wemonitor/S2LS/src/sentinel_download/sentinel-1-slc/S1A_IW_SLC__1SDV_20231211T031725_20231211T031751_051601_063AE5_68B7/product-preview.html\n",
      "Downloaded Sentinel-1/SAR/IW_SLC__1S/2023/12/11/S1A_IW_SLC__1SDV_20231211T031725_20231211T031751_051601_063AE5_68B7.SAFE/preview/quick-look.png to /p/project/hai_wemonitor/S2LS/src/sentinel_download/sentinel-1-slc/S1A_IW_SLC__1SDV_20231211T031725_20231211T031751_051601_063AE5_68B7/quick-look.png\n",
      "Downloaded Sentinel-1/SAR/IW_SLC__1S/2023/12/11/S1A_IW_SLC__1SDV_20231211T031725_20231211T031751_051601_063AE5_68B7.SAFE/preview/thumbnail.png to /p/project/hai_wemonitor/S2LS/src/sentinel_download/sentinel-1-slc/S1A_IW_SLC__1SDV_20231211T031725_20231211T031751_051601_063AE5_68B7/thumbnail.png\n",
      "Downloaded Sentinel-1/SAR/IW_SLC__1S/2023/12/11/S1A_IW_SLC__1SDV_20231211T031725_20231211T031751_051601_063AE5_68B7.SAFE/support/s1-level-1-calibration.xsd to /p/project/hai_wemonitor/S2LS/src/sentinel_download/sentinel-1-slc/S1A_IW_SLC__1SDV_20231211T031725_20231211T031751_051601_063AE5_68B7/s1-level-1-calibration.xsd\n",
      "Downloaded Sentinel-1/SAR/IW_SLC__1S/2023/12/11/S1A_IW_SLC__1SDV_20231211T031725_20231211T031751_051601_063AE5_68B7.SAFE/support/s1-level-1-measurement.xsd to /p/project/hai_wemonitor/S2LS/src/sentinel_download/sentinel-1-slc/S1A_IW_SLC__1SDV_20231211T031725_20231211T031751_051601_063AE5_68B7/s1-level-1-measurement.xsd\n",
      "Downloaded Sentinel-1/SAR/IW_SLC__1S/2023/12/11/S1A_IW_SLC__1SDV_20231211T031725_20231211T031751_051601_063AE5_68B7.SAFE/support/s1-level-1-noise.xsd to /p/project/hai_wemonitor/S2LS/src/sentinel_download/sentinel-1-slc/S1A_IW_SLC__1SDV_20231211T031725_20231211T031751_051601_063AE5_68B7/s1-level-1-noise.xsd\n",
      "Downloaded Sentinel-1/SAR/IW_SLC__1S/2023/12/11/S1A_IW_SLC__1SDV_20231211T031725_20231211T031751_051601_063AE5_68B7.SAFE/support/s1-level-1-product.xsd to /p/project/hai_wemonitor/S2LS/src/sentinel_download/sentinel-1-slc/S1A_IW_SLC__1SDV_20231211T031725_20231211T031751_051601_063AE5_68B7/s1-level-1-product.xsd\n",
      "Downloaded Sentinel-1/SAR/IW_SLC__1S/2023/12/11/S1A_IW_SLC__1SDV_20231211T031725_20231211T031751_051601_063AE5_68B7.SAFE/support/s1-level-1-quicklook.xsd to /p/project/hai_wemonitor/S2LS/src/sentinel_download/sentinel-1-slc/S1A_IW_SLC__1SDV_20231211T031725_20231211T031751_051601_063AE5_68B7/s1-level-1-quicklook.xsd\n",
      "Downloaded Sentinel-1/SAR/IW_SLC__1S/2023/12/11/S1A_IW_SLC__1SDV_20231211T031725_20231211T031751_051601_063AE5_68B7.SAFE/support/s1-level-1-rfi.xsd to /p/project/hai_wemonitor/S2LS/src/sentinel_download/sentinel-1-slc/S1A_IW_SLC__1SDV_20231211T031725_20231211T031751_051601_063AE5_68B7/s1-level-1-rfi.xsd\n",
      "Downloaded Sentinel-1/SAR/IW_SLC__1S/2023/12/11/S1A_IW_SLC__1SDV_20231211T031725_20231211T031751_051601_063AE5_68B7.SAFE/support/s1-map-overlay.xsd to /p/project/hai_wemonitor/S2LS/src/sentinel_download/sentinel-1-slc/S1A_IW_SLC__1SDV_20231211T031725_20231211T031751_051601_063AE5_68B7/s1-map-overlay.xsd\n",
      "Downloaded Sentinel-1/SAR/IW_SLC__1S/2023/12/11/S1A_IW_SLC__1SDV_20231211T031725_20231211T031751_051601_063AE5_68B7.SAFE/support/s1-object-types.xsd to /p/project/hai_wemonitor/S2LS/src/sentinel_download/sentinel-1-slc/S1A_IW_SLC__1SDV_20231211T031725_20231211T031751_051601_063AE5_68B7/s1-object-types.xsd\n",
      "Downloaded Sentinel-1/SAR/IW_SLC__1S/2023/12/11/S1A_IW_SLC__1SDV_20231211T031725_20231211T031751_051601_063AE5_68B7.SAFE/support/s1-product-preview.xsd to /p/project/hai_wemonitor/S2LS/src/sentinel_download/sentinel-1-slc/S1A_IW_SLC__1SDV_20231211T031725_20231211T031751_051601_063AE5_68B7/s1-product-preview.xsd\n",
      "Starting download of data via AWS-S3 in folder:  /p/project/hai_wemonitor/S2LS/src/sentinel_download/sentinel-1-slc/S1A_IW_SLC__1SDV_20231211T031749_20231211T031817_051601_063AE5_BD34\n",
      "Downloaded Sentinel-1/SAR/IW_SLC__1S/2023/12/11/S1A_IW_SLC__1SDV_20231211T031749_20231211T031817_051601_063AE5_BD34.SAFE/S1A_IW_SLC__1SDV_20231211T031749_20231211T031817_051601_063AE5_BD34.SAFE-report-20231211T073340.pdf to /p/project/hai_wemonitor/S2LS/src/sentinel_download/sentinel-1-slc/S1A_IW_SLC__1SDV_20231211T031749_20231211T031817_051601_063AE5_BD34/S1A_IW_SLC__1SDV_20231211T031749_20231211T031817_051601_063AE5_BD34.SAFE-report-20231211T073340.pdf\n",
      "Downloaded Sentinel-1/SAR/IW_SLC__1S/2023/12/11/S1A_IW_SLC__1SDV_20231211T031749_20231211T031817_051601_063AE5_BD34.SAFE/annotation/calibration/calibration-s1a-iw1-slc-vh-20231211t031751-20231211t031816-051601-063ae5-001.xml to /p/project/hai_wemonitor/S2LS/src/sentinel_download/sentinel-1-slc/S1A_IW_SLC__1SDV_20231211T031749_20231211T031817_051601_063AE5_BD34/calibration-s1a-iw1-slc-vh-20231211t031751-20231211t031816-051601-063ae5-001.xml\n",
      "Downloaded Sentinel-1/SAR/IW_SLC__1S/2023/12/11/S1A_IW_SLC__1SDV_20231211T031749_20231211T031817_051601_063AE5_BD34.SAFE/annotation/calibration/calibration-s1a-iw1-slc-vv-20231211t031751-20231211t031816-051601-063ae5-004.xml to /p/project/hai_wemonitor/S2LS/src/sentinel_download/sentinel-1-slc/S1A_IW_SLC__1SDV_20231211T031749_20231211T031817_051601_063AE5_BD34/calibration-s1a-iw1-slc-vv-20231211t031751-20231211t031816-051601-063ae5-004.xml\n",
      "Downloaded Sentinel-1/SAR/IW_SLC__1S/2023/12/11/S1A_IW_SLC__1SDV_20231211T031749_20231211T031817_051601_063AE5_BD34.SAFE/annotation/calibration/calibration-s1a-iw2-slc-vh-20231211t031749-20231211t031817-051601-063ae5-002.xml to /p/project/hai_wemonitor/S2LS/src/sentinel_download/sentinel-1-slc/S1A_IW_SLC__1SDV_20231211T031749_20231211T031817_051601_063AE5_BD34/calibration-s1a-iw2-slc-vh-20231211t031749-20231211t031817-051601-063ae5-002.xml\n",
      "Downloaded Sentinel-1/SAR/IW_SLC__1S/2023/12/11/S1A_IW_SLC__1SDV_20231211T031749_20231211T031817_051601_063AE5_BD34.SAFE/annotation/calibration/calibration-s1a-iw2-slc-vv-20231211t031749-20231211t031817-051601-063ae5-005.xml to /p/project/hai_wemonitor/S2LS/src/sentinel_download/sentinel-1-slc/S1A_IW_SLC__1SDV_20231211T031749_20231211T031817_051601_063AE5_BD34/calibration-s1a-iw2-slc-vv-20231211t031749-20231211t031817-051601-063ae5-005.xml\n",
      "Downloaded Sentinel-1/SAR/IW_SLC__1S/2023/12/11/S1A_IW_SLC__1SDV_20231211T031749_20231211T031817_051601_063AE5_BD34.SAFE/annotation/calibration/calibration-s1a-iw3-slc-vh-20231211t031750-20231211t031815-051601-063ae5-003.xml to /p/project/hai_wemonitor/S2LS/src/sentinel_download/sentinel-1-slc/S1A_IW_SLC__1SDV_20231211T031749_20231211T031817_051601_063AE5_BD34/calibration-s1a-iw3-slc-vh-20231211t031750-20231211t031815-051601-063ae5-003.xml\n",
      "Downloaded Sentinel-1/SAR/IW_SLC__1S/2023/12/11/S1A_IW_SLC__1SDV_20231211T031749_20231211T031817_051601_063AE5_BD34.SAFE/annotation/calibration/calibration-s1a-iw3-slc-vv-20231211t031750-20231211t031815-051601-063ae5-006.xml to /p/project/hai_wemonitor/S2LS/src/sentinel_download/sentinel-1-slc/S1A_IW_SLC__1SDV_20231211T031749_20231211T031817_051601_063AE5_BD34/calibration-s1a-iw3-slc-vv-20231211t031750-20231211t031815-051601-063ae5-006.xml\n",
      "Downloaded Sentinel-1/SAR/IW_SLC__1S/2023/12/11/S1A_IW_SLC__1SDV_20231211T031749_20231211T031817_051601_063AE5_BD34.SAFE/annotation/calibration/noise-s1a-iw1-slc-vh-20231211t031751-20231211t031816-051601-063ae5-001.xml to /p/project/hai_wemonitor/S2LS/src/sentinel_download/sentinel-1-slc/S1A_IW_SLC__1SDV_20231211T031749_20231211T031817_051601_063AE5_BD34/noise-s1a-iw1-slc-vh-20231211t031751-20231211t031816-051601-063ae5-001.xml\n",
      "Downloaded Sentinel-1/SAR/IW_SLC__1S/2023/12/11/S1A_IW_SLC__1SDV_20231211T031749_20231211T031817_051601_063AE5_BD34.SAFE/annotation/calibration/noise-s1a-iw1-slc-vv-20231211t031751-20231211t031816-051601-063ae5-004.xml to /p/project/hai_wemonitor/S2LS/src/sentinel_download/sentinel-1-slc/S1A_IW_SLC__1SDV_20231211T031749_20231211T031817_051601_063AE5_BD34/noise-s1a-iw1-slc-vv-20231211t031751-20231211t031816-051601-063ae5-004.xml\n",
      "Downloaded Sentinel-1/SAR/IW_SLC__1S/2023/12/11/S1A_IW_SLC__1SDV_20231211T031749_20231211T031817_051601_063AE5_BD34.SAFE/annotation/calibration/noise-s1a-iw2-slc-vh-20231211t031749-20231211t031817-051601-063ae5-002.xml to /p/project/hai_wemonitor/S2LS/src/sentinel_download/sentinel-1-slc/S1A_IW_SLC__1SDV_20231211T031749_20231211T031817_051601_063AE5_BD34/noise-s1a-iw2-slc-vh-20231211t031749-20231211t031817-051601-063ae5-002.xml\n",
      "Downloaded Sentinel-1/SAR/IW_SLC__1S/2023/12/11/S1A_IW_SLC__1SDV_20231211T031749_20231211T031817_051601_063AE5_BD34.SAFE/annotation/calibration/noise-s1a-iw2-slc-vv-20231211t031749-20231211t031817-051601-063ae5-005.xml to /p/project/hai_wemonitor/S2LS/src/sentinel_download/sentinel-1-slc/S1A_IW_SLC__1SDV_20231211T031749_20231211T031817_051601_063AE5_BD34/noise-s1a-iw2-slc-vv-20231211t031749-20231211t031817-051601-063ae5-005.xml\n",
      "Downloaded Sentinel-1/SAR/IW_SLC__1S/2023/12/11/S1A_IW_SLC__1SDV_20231211T031749_20231211T031817_051601_063AE5_BD34.SAFE/annotation/calibration/noise-s1a-iw3-slc-vh-20231211t031750-20231211t031815-051601-063ae5-003.xml to /p/project/hai_wemonitor/S2LS/src/sentinel_download/sentinel-1-slc/S1A_IW_SLC__1SDV_20231211T031749_20231211T031817_051601_063AE5_BD34/noise-s1a-iw3-slc-vh-20231211t031750-20231211t031815-051601-063ae5-003.xml\n",
      "Downloaded Sentinel-1/SAR/IW_SLC__1S/2023/12/11/S1A_IW_SLC__1SDV_20231211T031749_20231211T031817_051601_063AE5_BD34.SAFE/annotation/calibration/noise-s1a-iw3-slc-vv-20231211t031750-20231211t031815-051601-063ae5-006.xml to /p/project/hai_wemonitor/S2LS/src/sentinel_download/sentinel-1-slc/S1A_IW_SLC__1SDV_20231211T031749_20231211T031817_051601_063AE5_BD34/noise-s1a-iw3-slc-vv-20231211t031750-20231211t031815-051601-063ae5-006.xml\n",
      "Downloaded Sentinel-1/SAR/IW_SLC__1S/2023/12/11/S1A_IW_SLC__1SDV_20231211T031749_20231211T031817_051601_063AE5_BD34.SAFE/annotation/rfi/rfi-s1a-iw1-slc-vh-20231211t031751-20231211t031816-051601-063ae5-001.xml to /p/project/hai_wemonitor/S2LS/src/sentinel_download/sentinel-1-slc/S1A_IW_SLC__1SDV_20231211T031749_20231211T031817_051601_063AE5_BD34/rfi-s1a-iw1-slc-vh-20231211t031751-20231211t031816-051601-063ae5-001.xml\n",
      "Downloaded Sentinel-1/SAR/IW_SLC__1S/2023/12/11/S1A_IW_SLC__1SDV_20231211T031749_20231211T031817_051601_063AE5_BD34.SAFE/annotation/rfi/rfi-s1a-iw1-slc-vv-20231211t031751-20231211t031816-051601-063ae5-004.xml to /p/project/hai_wemonitor/S2LS/src/sentinel_download/sentinel-1-slc/S1A_IW_SLC__1SDV_20231211T031749_20231211T031817_051601_063AE5_BD34/rfi-s1a-iw1-slc-vv-20231211t031751-20231211t031816-051601-063ae5-004.xml\n",
      "Downloaded Sentinel-1/SAR/IW_SLC__1S/2023/12/11/S1A_IW_SLC__1SDV_20231211T031749_20231211T031817_051601_063AE5_BD34.SAFE/annotation/rfi/rfi-s1a-iw2-slc-vh-20231211t031749-20231211t031817-051601-063ae5-002.xml to /p/project/hai_wemonitor/S2LS/src/sentinel_download/sentinel-1-slc/S1A_IW_SLC__1SDV_20231211T031749_20231211T031817_051601_063AE5_BD34/rfi-s1a-iw2-slc-vh-20231211t031749-20231211t031817-051601-063ae5-002.xml\n",
      "Downloaded Sentinel-1/SAR/IW_SLC__1S/2023/12/11/S1A_IW_SLC__1SDV_20231211T031749_20231211T031817_051601_063AE5_BD34.SAFE/annotation/rfi/rfi-s1a-iw2-slc-vv-20231211t031749-20231211t031817-051601-063ae5-005.xml to /p/project/hai_wemonitor/S2LS/src/sentinel_download/sentinel-1-slc/S1A_IW_SLC__1SDV_20231211T031749_20231211T031817_051601_063AE5_BD34/rfi-s1a-iw2-slc-vv-20231211t031749-20231211t031817-051601-063ae5-005.xml\n",
      "Downloaded Sentinel-1/SAR/IW_SLC__1S/2023/12/11/S1A_IW_SLC__1SDV_20231211T031749_20231211T031817_051601_063AE5_BD34.SAFE/annotation/rfi/rfi-s1a-iw3-slc-vh-20231211t031750-20231211t031815-051601-063ae5-003.xml to /p/project/hai_wemonitor/S2LS/src/sentinel_download/sentinel-1-slc/S1A_IW_SLC__1SDV_20231211T031749_20231211T031817_051601_063AE5_BD34/rfi-s1a-iw3-slc-vh-20231211t031750-20231211t031815-051601-063ae5-003.xml\n",
      "Downloaded Sentinel-1/SAR/IW_SLC__1S/2023/12/11/S1A_IW_SLC__1SDV_20231211T031749_20231211T031817_051601_063AE5_BD34.SAFE/annotation/rfi/rfi-s1a-iw3-slc-vv-20231211t031750-20231211t031815-051601-063ae5-006.xml to /p/project/hai_wemonitor/S2LS/src/sentinel_download/sentinel-1-slc/S1A_IW_SLC__1SDV_20231211T031749_20231211T031817_051601_063AE5_BD34/rfi-s1a-iw3-slc-vv-20231211t031750-20231211t031815-051601-063ae5-006.xml\n",
      "Downloaded Sentinel-1/SAR/IW_SLC__1S/2023/12/11/S1A_IW_SLC__1SDV_20231211T031749_20231211T031817_051601_063AE5_BD34.SAFE/annotation/s1a-iw1-slc-vh-20231211t031751-20231211t031816-051601-063ae5-001.xml to /p/project/hai_wemonitor/S2LS/src/sentinel_download/sentinel-1-slc/S1A_IW_SLC__1SDV_20231211T031749_20231211T031817_051601_063AE5_BD34/s1a-iw1-slc-vh-20231211t031751-20231211t031816-051601-063ae5-001.xml\n",
      "Downloaded Sentinel-1/SAR/IW_SLC__1S/2023/12/11/S1A_IW_SLC__1SDV_20231211T031749_20231211T031817_051601_063AE5_BD34.SAFE/annotation/s1a-iw1-slc-vv-20231211t031751-20231211t031816-051601-063ae5-004.xml to /p/project/hai_wemonitor/S2LS/src/sentinel_download/sentinel-1-slc/S1A_IW_SLC__1SDV_20231211T031749_20231211T031817_051601_063AE5_BD34/s1a-iw1-slc-vv-20231211t031751-20231211t031816-051601-063ae5-004.xml\n",
      "Downloaded Sentinel-1/SAR/IW_SLC__1S/2023/12/11/S1A_IW_SLC__1SDV_20231211T031749_20231211T031817_051601_063AE5_BD34.SAFE/annotation/s1a-iw2-slc-vh-20231211t031749-20231211t031817-051601-063ae5-002.xml to /p/project/hai_wemonitor/S2LS/src/sentinel_download/sentinel-1-slc/S1A_IW_SLC__1SDV_20231211T031749_20231211T031817_051601_063AE5_BD34/s1a-iw2-slc-vh-20231211t031749-20231211t031817-051601-063ae5-002.xml\n",
      "Downloaded Sentinel-1/SAR/IW_SLC__1S/2023/12/11/S1A_IW_SLC__1SDV_20231211T031749_20231211T031817_051601_063AE5_BD34.SAFE/annotation/s1a-iw2-slc-vv-20231211t031749-20231211t031817-051601-063ae5-005.xml to /p/project/hai_wemonitor/S2LS/src/sentinel_download/sentinel-1-slc/S1A_IW_SLC__1SDV_20231211T031749_20231211T031817_051601_063AE5_BD34/s1a-iw2-slc-vv-20231211t031749-20231211t031817-051601-063ae5-005.xml\n",
      "Downloaded Sentinel-1/SAR/IW_SLC__1S/2023/12/11/S1A_IW_SLC__1SDV_20231211T031749_20231211T031817_051601_063AE5_BD34.SAFE/annotation/s1a-iw3-slc-vh-20231211t031750-20231211t031815-051601-063ae5-003.xml to /p/project/hai_wemonitor/S2LS/src/sentinel_download/sentinel-1-slc/S1A_IW_SLC__1SDV_20231211T031749_20231211T031817_051601_063AE5_BD34/s1a-iw3-slc-vh-20231211t031750-20231211t031815-051601-063ae5-003.xml\n",
      "Downloaded Sentinel-1/SAR/IW_SLC__1S/2023/12/11/S1A_IW_SLC__1SDV_20231211T031749_20231211T031817_051601_063AE5_BD34.SAFE/annotation/s1a-iw3-slc-vv-20231211t031750-20231211t031815-051601-063ae5-006.xml to /p/project/hai_wemonitor/S2LS/src/sentinel_download/sentinel-1-slc/S1A_IW_SLC__1SDV_20231211T031749_20231211T031817_051601_063AE5_BD34/s1a-iw3-slc-vv-20231211t031750-20231211t031815-051601-063ae5-006.xml\n",
      "Downloaded Sentinel-1/SAR/IW_SLC__1S/2023/12/11/S1A_IW_SLC__1SDV_20231211T031749_20231211T031817_051601_063AE5_BD34.SAFE/manifest.safe to /p/project/hai_wemonitor/S2LS/src/sentinel_download/sentinel-1-slc/S1A_IW_SLC__1SDV_20231211T031749_20231211T031817_051601_063AE5_BD34/manifest.safe\n",
      "Downloaded Sentinel-1/SAR/IW_SLC__1S/2023/12/11/S1A_IW_SLC__1SDV_20231211T031749_20231211T031817_051601_063AE5_BD34.SAFE/measurement/s1a-iw1-slc-vh-20231211t031751-20231211t031816-051601-063ae5-001.tiff to /p/project/hai_wemonitor/S2LS/src/sentinel_download/sentinel-1-slc/S1A_IW_SLC__1SDV_20231211T031749_20231211T031817_051601_063AE5_BD34/s1a-iw1-slc-vh-20231211t031751-20231211t031816-051601-063ae5-001.tiff\n",
      "Downloaded Sentinel-1/SAR/IW_SLC__1S/2023/12/11/S1A_IW_SLC__1SDV_20231211T031749_20231211T031817_051601_063AE5_BD34.SAFE/measurement/s1a-iw1-slc-vv-20231211t031751-20231211t031816-051601-063ae5-004.tiff to /p/project/hai_wemonitor/S2LS/src/sentinel_download/sentinel-1-slc/S1A_IW_SLC__1SDV_20231211T031749_20231211T031817_051601_063AE5_BD34/s1a-iw1-slc-vv-20231211t031751-20231211t031816-051601-063ae5-004.tiff\n",
      "Downloaded Sentinel-1/SAR/IW_SLC__1S/2023/12/11/S1A_IW_SLC__1SDV_20231211T031749_20231211T031817_051601_063AE5_BD34.SAFE/measurement/s1a-iw2-slc-vh-20231211t031749-20231211t031817-051601-063ae5-002.tiff to /p/project/hai_wemonitor/S2LS/src/sentinel_download/sentinel-1-slc/S1A_IW_SLC__1SDV_20231211T031749_20231211T031817_051601_063AE5_BD34/s1a-iw2-slc-vh-20231211t031749-20231211t031817-051601-063ae5-002.tiff\n",
      "Downloaded Sentinel-1/SAR/IW_SLC__1S/2023/12/11/S1A_IW_SLC__1SDV_20231211T031749_20231211T031817_051601_063AE5_BD34.SAFE/measurement/s1a-iw2-slc-vv-20231211t031749-20231211t031817-051601-063ae5-005.tiff to /p/project/hai_wemonitor/S2LS/src/sentinel_download/sentinel-1-slc/S1A_IW_SLC__1SDV_20231211T031749_20231211T031817_051601_063AE5_BD34/s1a-iw2-slc-vv-20231211t031749-20231211t031817-051601-063ae5-005.tiff\n",
      "Downloaded Sentinel-1/SAR/IW_SLC__1S/2023/12/11/S1A_IW_SLC__1SDV_20231211T031749_20231211T031817_051601_063AE5_BD34.SAFE/measurement/s1a-iw3-slc-vh-20231211t031750-20231211t031815-051601-063ae5-003.tiff to /p/project/hai_wemonitor/S2LS/src/sentinel_download/sentinel-1-slc/S1A_IW_SLC__1SDV_20231211T031749_20231211T031817_051601_063AE5_BD34/s1a-iw3-slc-vh-20231211t031750-20231211t031815-051601-063ae5-003.tiff\n",
      "Downloaded Sentinel-1/SAR/IW_SLC__1S/2023/12/11/S1A_IW_SLC__1SDV_20231211T031749_20231211T031817_051601_063AE5_BD34.SAFE/measurement/s1a-iw3-slc-vv-20231211t031750-20231211t031815-051601-063ae5-006.tiff to /p/project/hai_wemonitor/S2LS/src/sentinel_download/sentinel-1-slc/S1A_IW_SLC__1SDV_20231211T031749_20231211T031817_051601_063AE5_BD34/s1a-iw3-slc-vv-20231211t031750-20231211t031815-051601-063ae5-006.tiff\n",
      "Downloaded Sentinel-1/SAR/IW_SLC__1S/2023/12/11/S1A_IW_SLC__1SDV_20231211T031749_20231211T031817_051601_063AE5_BD34.SAFE/preview/icons/logo.png to /p/project/hai_wemonitor/S2LS/src/sentinel_download/sentinel-1-slc/S1A_IW_SLC__1SDV_20231211T031749_20231211T031817_051601_063AE5_BD34/logo.png\n",
      "Downloaded Sentinel-1/SAR/IW_SLC__1S/2023/12/11/S1A_IW_SLC__1SDV_20231211T031749_20231211T031817_051601_063AE5_BD34.SAFE/preview/map-overlay.kml to /p/project/hai_wemonitor/S2LS/src/sentinel_download/sentinel-1-slc/S1A_IW_SLC__1SDV_20231211T031749_20231211T031817_051601_063AE5_BD34/map-overlay.kml\n",
      "Downloaded Sentinel-1/SAR/IW_SLC__1S/2023/12/11/S1A_IW_SLC__1SDV_20231211T031749_20231211T031817_051601_063AE5_BD34.SAFE/preview/product-preview.html to /p/project/hai_wemonitor/S2LS/src/sentinel_download/sentinel-1-slc/S1A_IW_SLC__1SDV_20231211T031749_20231211T031817_051601_063AE5_BD34/product-preview.html\n",
      "Downloaded Sentinel-1/SAR/IW_SLC__1S/2023/12/11/S1A_IW_SLC__1SDV_20231211T031749_20231211T031817_051601_063AE5_BD34.SAFE/preview/quick-look.png to /p/project/hai_wemonitor/S2LS/src/sentinel_download/sentinel-1-slc/S1A_IW_SLC__1SDV_20231211T031749_20231211T031817_051601_063AE5_BD34/quick-look.png\n",
      "Downloaded Sentinel-1/SAR/IW_SLC__1S/2023/12/11/S1A_IW_SLC__1SDV_20231211T031749_20231211T031817_051601_063AE5_BD34.SAFE/preview/thumbnail.png to /p/project/hai_wemonitor/S2LS/src/sentinel_download/sentinel-1-slc/S1A_IW_SLC__1SDV_20231211T031749_20231211T031817_051601_063AE5_BD34/thumbnail.png\n",
      "Downloaded Sentinel-1/SAR/IW_SLC__1S/2023/12/11/S1A_IW_SLC__1SDV_20231211T031749_20231211T031817_051601_063AE5_BD34.SAFE/support/s1-level-1-calibration.xsd to /p/project/hai_wemonitor/S2LS/src/sentinel_download/sentinel-1-slc/S1A_IW_SLC__1SDV_20231211T031749_20231211T031817_051601_063AE5_BD34/s1-level-1-calibration.xsd\n",
      "Downloaded Sentinel-1/SAR/IW_SLC__1S/2023/12/11/S1A_IW_SLC__1SDV_20231211T031749_20231211T031817_051601_063AE5_BD34.SAFE/support/s1-level-1-measurement.xsd to /p/project/hai_wemonitor/S2LS/src/sentinel_download/sentinel-1-slc/S1A_IW_SLC__1SDV_20231211T031749_20231211T031817_051601_063AE5_BD34/s1-level-1-measurement.xsd\n",
      "Downloaded Sentinel-1/SAR/IW_SLC__1S/2023/12/11/S1A_IW_SLC__1SDV_20231211T031749_20231211T031817_051601_063AE5_BD34.SAFE/support/s1-level-1-noise.xsd to /p/project/hai_wemonitor/S2LS/src/sentinel_download/sentinel-1-slc/S1A_IW_SLC__1SDV_20231211T031749_20231211T031817_051601_063AE5_BD34/s1-level-1-noise.xsd\n",
      "Downloaded Sentinel-1/SAR/IW_SLC__1S/2023/12/11/S1A_IW_SLC__1SDV_20231211T031749_20231211T031817_051601_063AE5_BD34.SAFE/support/s1-level-1-product.xsd to /p/project/hai_wemonitor/S2LS/src/sentinel_download/sentinel-1-slc/S1A_IW_SLC__1SDV_20231211T031749_20231211T031817_051601_063AE5_BD34/s1-level-1-product.xsd\n",
      "Downloaded Sentinel-1/SAR/IW_SLC__1S/2023/12/11/S1A_IW_SLC__1SDV_20231211T031749_20231211T031817_051601_063AE5_BD34.SAFE/support/s1-level-1-quicklook.xsd to /p/project/hai_wemonitor/S2LS/src/sentinel_download/sentinel-1-slc/S1A_IW_SLC__1SDV_20231211T031749_20231211T031817_051601_063AE5_BD34/s1-level-1-quicklook.xsd\n",
      "Downloaded Sentinel-1/SAR/IW_SLC__1S/2023/12/11/S1A_IW_SLC__1SDV_20231211T031749_20231211T031817_051601_063AE5_BD34.SAFE/support/s1-level-1-rfi.xsd to /p/project/hai_wemonitor/S2LS/src/sentinel_download/sentinel-1-slc/S1A_IW_SLC__1SDV_20231211T031749_20231211T031817_051601_063AE5_BD34/s1-level-1-rfi.xsd\n",
      "Downloaded Sentinel-1/SAR/IW_SLC__1S/2023/12/11/S1A_IW_SLC__1SDV_20231211T031749_20231211T031817_051601_063AE5_BD34.SAFE/support/s1-map-overlay.xsd to /p/project/hai_wemonitor/S2LS/src/sentinel_download/sentinel-1-slc/S1A_IW_SLC__1SDV_20231211T031749_20231211T031817_051601_063AE5_BD34/s1-map-overlay.xsd\n",
      "Downloaded Sentinel-1/SAR/IW_SLC__1S/2023/12/11/S1A_IW_SLC__1SDV_20231211T031749_20231211T031817_051601_063AE5_BD34.SAFE/support/s1-object-types.xsd to /p/project/hai_wemonitor/S2LS/src/sentinel_download/sentinel-1-slc/S1A_IW_SLC__1SDV_20231211T031749_20231211T031817_051601_063AE5_BD34/s1-object-types.xsd\n",
      "Downloaded Sentinel-1/SAR/IW_SLC__1S/2023/12/11/S1A_IW_SLC__1SDV_20231211T031749_20231211T031817_051601_063AE5_BD34.SAFE/support/s1-product-preview.xsd to /p/project/hai_wemonitor/S2LS/src/sentinel_download/sentinel-1-slc/S1A_IW_SLC__1SDV_20231211T031749_20231211T031817_051601_063AE5_BD34/s1-product-preview.xsd\n"
     ]
    }
   ],
   "source": [
    "cdse.download_via_aws(items=cdse_result, output_dir=\"sentinel-1-slc\")"
   ]
  },
  {
   "cell_type": "code",
   "execution_count": 6,
   "metadata": {},
   "outputs": [],
   "source": [
    "# Download only the first item and store it in a specific folder - if folder is not existing it will be generated\n",
    "# cdse.download(items=[cdse_result[0]], output_dir=\"sentinel-1-slc\")"
   ]
  }
 ],
 "metadata": {
  "kernelspec": {
   "display_name": "sat_preprocess",
   "language": "python",
   "name": "python3"
  },
  "language_info": {
   "codemirror_mode": {
    "name": "ipython",
    "version": 3
   },
   "file_extension": ".py",
   "mimetype": "text/x-python",
   "name": "python",
   "nbconvert_exporter": "python",
   "pygments_lexer": "ipython3",
   "version": "3.12.0"
  }
 },
 "nbformat": 4,
 "nbformat_minor": 2
}
