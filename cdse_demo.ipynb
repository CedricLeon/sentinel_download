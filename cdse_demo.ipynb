{
 "cells": [
  {
   "cell_type": "code",
   "execution_count": 1,
   "metadata": {},
   "outputs": [],
   "source": [
    "from sentinel_datasource.copernicus_dataspace import CDSE\n",
    "from datetime import datetime, timedelta"
   ]
  },
  {
   "cell_type": "code",
   "execution_count": 2,
   "metadata": {},
   "outputs": [
    {
     "name": "stdout",
     "output_type": "stream",
     "text": [
      "Available Sentinel products on Copernicus Data Space Ecosystem:\n",
      "{'SENTINEL-1': ['SLC', 'GRD', 'RTC'], 'SENTINEL-2': []}\n"
     ]
    }
   ],
   "source": [
    "# CDSE search \n",
    "cdse = CDSE()\n",
    "print(\"Available Sentinel products on Copernicus Data Space Ecosystem:\")\n",
    "print(cdse.collections_with_products)"
   ]
  },
  {
   "cell_type": "code",
   "execution_count": 3,
   "metadata": {},
   "outputs": [
    {
     "name": "stdout",
     "output_type": "stream",
     "text": [
      "Found 2 results.\n",
      "File ID of first item:  S1A_IW_SLC__1SDV_20231211T031725_20231211T031751_051601_063AE5_68B7.SAFE\n",
      "Properties:  {'@odata.mediaContentType': 'application/octet-stream', 'Id': '9d3efbba-312e-47ef-b496-43646fd52706', 'Name': 'S1A_IW_SLC__1SDV_20231211T031725_20231211T031751_051601_063AE5_68B7.SAFE', 'ContentType': 'application/octet-stream', 'ContentLength': 7833104222, 'OriginDate': '2023-12-11T07:36:34.137Z', 'PublicationDate': '2023-12-11T07:45:35.989Z', 'ModificationDate': '2023-12-11T07:46:57.268Z', 'Online': True, 'EvictionDate': '', 'S3Path': '/eodata/Sentinel-1/SAR/IW_SLC__1S/2023/12/11/S1A_IW_SLC__1SDV_20231211T031725_20231211T031751_051601_063AE5_68B7.SAFE', 'Checksum': [{'Value': '7fe83deea4ac78d45d872e22e59d2b5c', 'Algorithm': 'MD5', 'ChecksumDate': '2023-12-11T07:46:36.485193Z'}, {'Value': '2d456fb3e9560bd17e2f864b0fe28bcb1bb677bd3a584c0230fdc56f59e7d65f', 'Algorithm': 'BLAKE3', 'ChecksumDate': '2023-12-11T07:46:57.162600Z'}], 'ContentDate': {'Start': '2023-12-11T03:17:25.022Z', 'End': '2023-12-11T03:17:51.969Z'}, 'Footprint': \"geography'SRID=4326;POLYGON ((34.380409 -20.086021, 34.780041 -18.464144, 32.430676 -17.914835, 32.006538 -19.528681, 34.380409 -20.086021))'\", 'GeoFootprint': {'type': 'Polygon', 'coordinates': [[[34.380409, -20.086021], [34.780041, -18.464144], [32.430676, -17.914835], [32.006538, -19.528681], [34.380409, -20.086021]]]}}\n"
     ]
    }
   ],
   "source": [
    "search_parameters = {\n",
    "    'collection': 'SENTINEL-1',\n",
    "    'product': 'SLC',\n",
    "    'start' : datetime.now() - timedelta(days=15),\n",
    "    'end' : datetime.now(),\n",
    "    'shapefile': \"/p/project/hai_wemonitor/S2LS/data/locations/Chimanimani/annotations/Chimanimani.shp\"\n",
    "}\n",
    "cdse_result = cdse.search_odata(search_parameters)\n",
    "print(\"File ID of first item: \", cdse_result[0][\"Name\"])\n",
    "print(\"Properties: \", cdse_result[0])"
   ]
  },
  {
   "cell_type": "code",
   "execution_count": null,
   "metadata": {},
   "outputs": [],
   "source": []
  }
 ],
 "metadata": {
  "kernelspec": {
   "display_name": "sat_preprocess",
   "language": "python",
   "name": "python3"
  },
  "language_info": {
   "codemirror_mode": {
    "name": "ipython",
    "version": 3
   },
   "file_extension": ".py",
   "mimetype": "text/x-python",
   "name": "python",
   "nbconvert_exporter": "python",
   "pygments_lexer": "ipython3",
   "version": "3.12.0"
  }
 },
 "nbformat": 4,
 "nbformat_minor": 2
}
