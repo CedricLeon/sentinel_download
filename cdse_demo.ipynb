{
 "cells": [
  {
   "cell_type": "code",
   "execution_count": 1,
   "metadata": {},
   "outputs": [],
   "source": [
    "from sentinel_datasource.alaska_satellite_facility import ASF \n",
    "from sentinel_datasource.microsoft_planetary_computer import PlanetaryComputer\n",
    "from datetime import datetime, timedelta"
   ]
  },
  {
   "cell_type": "code",
   "execution_count": 2,
   "metadata": {},
   "outputs": [],
   "source": [
    "# Global search parameter that are equal for all data sources\n",
    "additional_search_parameters = {\n",
    "    'start' : datetime.now() - timedelta(days=15),\n",
    "    'end' : datetime.now(),\n",
    "    'shapefile': \"/p/project/hai_wemonitor/S2LS/data/locations/Chimanimani/annotations/Chimanimani.shp\"\n",
    "}"
   ]
  },
  {
   "cell_type": "code",
   "execution_count": null,
   "metadata": {},
   "outputs": [],
   "source": [
    "# ASF search \n",
    "asf = ASF()\n",
    "print(asf.collections_with_products)\n",
    "asf_results = asf.search(platform=\"Sentinel-1\", product=\"GRD\", search_parameters=additional_search_parameters)\n",
    "print([result.properties for result in asf_results])"
   ]
  },
  {
   "cell_type": "code",
   "execution_count": null,
   "metadata": {},
   "outputs": [],
   "source": [
    "# ASF preprocess - Authentication is required. For this you need an earthdata nasa account.\n",
    "credentials = {'username': 'your_username', 'password': 'your_password' }\n",
    "asf.activate_session(credentials)\n",
    "rtc_jobs = asf.start_rtc_jobs(asf_results, name=\"rtc_jobs\") # you can modify asf search result, e.g. remove items\n",
    "print(rtc_jobs)"
   ]
  },
  {
   "cell_type": "code",
   "execution_count": null,
   "metadata": {},
   "outputs": [],
   "source": [
    "# ASF download\n",
    "asf.download_jobs(job_name=\"rtc_jobs\")"
   ]
  },
  {
   "cell_type": "code",
   "execution_count": null,
   "metadata": {},
   "outputs": [],
   "source": [
    "# Planetary search\n",
    "pc = PlanetaryComputer(api_key=\"\")\n",
    "print(\"Available Sentinel products on Planetary Computer:\")\n",
    "print(pc.collections_with_products)\n"
   ]
  },
  {
   "cell_type": "code",
   "execution_count": 7,
   "metadata": {},
   "outputs": [
    {
     "name": "stderr",
     "output_type": "stream",
     "text": [
      "  0%|          | 0/2 [timeout in 10800s] "
     ]
    }
   ],
   "source": [
    "pc_results = pc.search(\"sentinel-1-grd\", additional_parameters)\n",
    "print([result.properties for result in pc_results.item_collection()])"
   ]
  },
  {
   "cell_type": "code",
   "execution_count": 1,
   "metadata": {},
   "outputs": [
    {
     "ename": "NameError",
     "evalue": "name 'rtc_jobs' is not defined",
     "output_type": "error",
     "traceback": [
      "\u001b[0;31m---------------------------------------------------------------------------\u001b[0m",
      "\u001b[0;31mNameError\u001b[0m                                 Traceback (most recent call last)",
      "Cell \u001b[0;32mIn[1], line 2\u001b[0m\n\u001b[1;32m      1\u001b[0m \u001b[38;5;66;03m# Wait until all jobs are preprocessed and download them. You can download only download finished jobs in a batch - there is an option to filter these. \u001b[39;00m\n\u001b[0;32m----> 2\u001b[0m \u001b[38;5;28;01mif\u001b[39;00m \u001b[43mrtc_jobs\u001b[49m\u001b[38;5;241m.\u001b[39mcomplete:\n\u001b[1;32m      3\u001b[0m     downloaded_files \u001b[38;5;241m=\u001b[39m asf\u001b[38;5;241m.\u001b[39mdownload_jobs(job_name\u001b[38;5;241m=\u001b[39m\u001b[38;5;124m\"\u001b[39m\u001b[38;5;124mrtc_jobs\u001b[39m\u001b[38;5;124m\"\u001b[39m)\n",
      "\u001b[0;31mNameError\u001b[0m: name 'rtc_jobs' is not defined"
     ]
    }
   ],
   "source": [
    "# Wait until all jobs are preprocessed and download them. You can download only download finished jobs in a batch - there is an option to filter these. \n",
    "if rtc_jobs.complete:\n",
    "    downloaded_files = asf.download_jobs(job_name=\"rtc_jobs\")"
   ]
  },
  {
   "cell_type": "markdown",
   "metadata": {},
   "source": []
  }
 ],
 "metadata": {
  "kernelspec": {
   "display_name": "sat_preprocess",
   "language": "python",
   "name": "python3"
  },
  "language_info": {
   "codemirror_mode": {
    "name": "ipython",
    "version": 3
   },
   "file_extension": ".py",
   "mimetype": "text/x-python",
   "name": "python",
   "nbconvert_exporter": "python",
   "pygments_lexer": "ipython3",
   "version": "3.12.0"
  }
 },
 "nbformat": 4,
 "nbformat_minor": 2
}
