{
 "cells": [
  {
   "cell_type": "code",
   "execution_count": 1,
   "metadata": {},
   "outputs": [],
   "source": [
    "from sentinel_datasource.microsoft_planetary_computer import PlanetaryComputer\n",
    "from datetime import datetime, timedelta"
   ]
  },
  {
   "cell_type": "code",
   "execution_count": 2,
   "metadata": {},
   "outputs": [
    {
     "name": "stdout",
     "output_type": "stream",
     "text": [
      "Available Sentinel-1/-2 products in data catalog of Planetary Computer:\n",
      "{'Sentinel-1': ['sentinel-1-grd', 'sentinel-1-rtc'], 'Sentinel-2': ['sentinel-2-l2a']}\n"
     ]
    }
   ],
   "source": [
    "# Planetary search\n",
    "pc = PlanetaryComputer(api_key=\"\")\n",
    "print(\"Available Sentinel-1/-2 products in data catalog of Planetary Computer:\")\n",
    "print(pc.collections_with_products)"
   ]
  },
  {
   "cell_type": "code",
   "execution_count": 3,
   "metadata": {},
   "outputs": [
    {
     "name": "stdout",
     "output_type": "stream",
     "text": [
      "Returned 2 items.\n",
      "File ID of first item:  S1A_IW_GRDH_1SDV_20231211T031751_20231211T031816_051601_063AE5\n"
     ]
    }
   ],
   "source": [
    "search_parameters = {\n",
    "    'collections': 'sentinel-1-grd',\n",
    "    'start' : datetime.now() - timedelta(days=15),\n",
    "    'end' : datetime.now(),\n",
    "    'shapefile': \"/p/project/hai_wemonitor/S2LS/data/locations/Chimanimani/annotations/Chimanimani.shp\"\n",
    "}\n",
    "pc_result = pc.search(search_parameters)\n",
    "items = pc_result.item_collection()\n",
    "print(\"File ID of first item: \", items[0].id)\n",
    "#print(\"Properties: \", items[0].properties)\n"
   ]
  },
  {
   "cell_type": "code",
   "execution_count": 4,
   "metadata": {},
   "outputs": [
    {
     "name": "stdout",
     "output_type": "stream",
     "text": [
      "Available assets of first item:\n",
      "['vh', 'vv', 'thumbnail', 'safe-manifest', 'schema-noise-vh', 'schema-noise-vv', 'schema-product-vh', 'schema-product-vv', 'schema-calibration-vh', 'schema-calibration-vv', 'tilejson', 'rendered_preview']\n"
     ]
    }
   ],
   "source": [
    "# See all assets of first item\n",
    "print(\"Available assets of first item:\")\n",
    "asset_keys = [key for key in items[0].assets.keys()]\n",
    "print(asset_keys)\n"
   ]
  },
  {
   "cell_type": "code",
   "execution_count": 5,
   "metadata": {},
   "outputs": [
    {
     "name": "stdout",
     "output_type": "stream",
     "text": [
      "Output directory:  /p/project/hai_wemonitor/S2LS/src/sentinel_download/sentinel-1\n",
      "Start downloading assets for item:  S1A_IW_GRDH_1SDV_20231211T031751_20231211T031816_051601_063AE5\n",
      "Downloaded asset: vh\n",
      "Downloaded asset: vv\n",
      "Downloaded asset: thumbnail\n",
      "Downloaded asset: safe-manifest\n",
      "Downloaded asset: schema-noise-vh\n",
      "Downloaded asset: schema-noise-vv\n",
      "Downloaded asset: schema-product-vh\n",
      "Downloaded asset: schema-product-vv\n",
      "Downloaded asset: schema-calibration-vh\n",
      "Downloaded asset: schema-calibration-vv\n",
      "Downloaded asset: tilejson\n",
      "Downloaded asset: rendered_preview\n"
     ]
    },
    {
     "data": {
      "text/plain": [
       "PosixPath('/p/project/hai_wemonitor/S2LS/src/sentinel_download/sentinel-1')"
      ]
     },
     "execution_count": 5,
     "metadata": {},
     "output_type": "execute_result"
    }
   ],
   "source": [
    "# Download all assets of items in specific folder, which will be created in cwd\n",
    "output_dir = pc.download_all_assets(items=[items[0]], output_dir=\"sentinel-1\")"
   ]
  },
  {
   "cell_type": "code",
   "execution_count": 6,
   "metadata": {},
   "outputs": [
    {
     "name": "stdout",
     "output_type": "stream",
     "text": [
      "Output directory:  /p/project/hai_wemonitor/S2LS/src/sentinel_download\n",
      "Start downloading assets for item:  S1A_IW_GRDH_1SDV_20231211T031751_20231211T031816_051601_063AE5\n",
      "Downloaded asset: vv\n",
      "Start downloading assets for item:  S1A_IW_GRDH_1SDV_20231211T031726_20231211T031751_051601_063AE5\n"
     ]
    }
   ],
   "source": [
    "# Download only VV of all items - for single items please use [items[0]]\n",
    "output_dir = pc.download_specific_assets(items=items, custom_assets=[\"vv\"])"
   ]
  }
 ],
 "metadata": {
  "kernelspec": {
   "display_name": "sat_preprocess",
   "language": "python",
   "name": "python3"
  },
  "language_info": {
   "codemirror_mode": {
    "name": "ipython",
    "version": 3
   },
   "file_extension": ".py",
   "mimetype": "text/x-python",
   "name": "python",
   "nbconvert_exporter": "python",
   "pygments_lexer": "ipython3",
   "version": "3.12.0"
  }
 },
 "nbformat": 4,
 "nbformat_minor": 2
}
