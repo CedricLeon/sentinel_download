{
 "cells": [
  {
   "cell_type": "code",
   "execution_count": 1,
   "metadata": {},
   "outputs": [],
   "source": [
    "from sentinel_datasource.microsoft_planetary_computer import PlanetaryComputer\n",
    "from datetime import datetime, timedelta"
   ]
  },
  {
   "cell_type": "code",
   "execution_count": 2,
   "metadata": {},
   "outputs": [
    {
     "name": "stdout",
     "output_type": "stream",
     "text": [
      "Available Sentinel-1/-2 products in data catalog of Planetary Computer:\n",
      "{'Sentinel-1': ['sentinel-1-grd', 'sentinel-1-rtc'], 'Sentinel-2': ['sentinel-2-l2a']}\n"
     ]
    }
   ],
   "source": [
    "# Planetary search\n",
    "pc = PlanetaryComputer(api_key=\"\")\n",
    "print(\"Available Sentinel-1/-2 products in data catalog of Planetary Computer:\")\n",
    "print(pc.collections_with_products)"
   ]
  },
  {
   "cell_type": "code",
   "execution_count": 3,
   "metadata": {},
   "outputs": [
    {
     "name": "stdout",
     "output_type": "stream",
     "text": [
      "Returned 2 items.\n",
      "File ID of first item:  S1A_IW_GRDH_1SDV_20231211T031751_20231211T031816_051601_063AE5\n",
      "Properties:  {'datetime': '2023-12-11T03:18:03.725036Z', 'platform': 'SENTINEL-1A', 's1:shape': [25946, 16854], 'end_datetime': '2023-12-11 03:18:16.224214+00:00', 'constellation': 'Sentinel-1', 's1:resolution': 'high', 's1:datatake_id': '408293', 'start_datetime': '2023-12-11 03:17:51.225858+00:00', 's1:orbit_source': 'RESORB', 's1:slice_number': '7', 's1:total_slices': '11', 'sar:looks_range': 5, 'sat:orbit_state': 'descending', 'sar:product_type': 'GRD', 'sar:looks_azimuth': 1, 'sar:polarizations': ['VV', 'VH'], 'sar:frequency_band': 'C', 'sat:absolute_orbit': 51601, 'sat:relative_orbit': 79, 's1:processing_level': '1', 'sar:instrument_mode': 'IW', 'sar:center_frequency': 5.405, 'sar:resolution_range': 20, 's1:product_timeliness': 'Fast-24h', 'sar:resolution_azimuth': 22, 'sar:pixel_spacing_range': 10, 'sar:observation_direction': 'right', 'sar:pixel_spacing_azimuth': 10, 'sar:looks_equivalent_number': 4.4, 's1:instrument_configuration_ID': '7', 'sat:platform_international_designator': '2014-016A'}\n"
     ]
    }
   ],
   "source": [
    "search_parameters = {\n",
    "    'collections': 'sentinel-1-grd',\n",
    "    'start' : datetime.now() - timedelta(days=15),\n",
    "    'end' : datetime.now(),\n",
    "    'shapefile': \"/p/project/hai_wemonitor/S2LS/data/locations/Chimanimani/annotations/Chimanimani.shp\"\n",
    "}\n",
    "pc_result = pc.search(search_parameters)\n",
    "items = pc_result.item_collection()\n",
    "print(\"File ID of first item: \", items[0].id)\n",
    "print(\"Properties: \", items[0].properties)\n"
   ]
  },
  {
   "cell_type": "code",
   "execution_count": 4,
   "metadata": {},
   "outputs": [
    {
     "name": "stdout",
     "output_type": "stream",
     "text": [
      "Available assets of first item:\n",
      "['vh', 'vv', 'thumbnail', 'safe-manifest', 'schema-noise-vh', 'schema-noise-vv', 'schema-product-vh', 'schema-product-vv', 'schema-calibration-vh', 'schema-calibration-vv', 'tilejson', 'rendered_preview']\n"
     ]
    }
   ],
   "source": [
    "# See all assets of first item\n",
    "print(\"Available assets of first item:\")\n",
    "asset_keys = [key for key in items[0].assets.keys()]\n",
    "print(asset_keys)\n"
   ]
  },
  {
   "cell_type": "code",
   "execution_count": 5,
   "metadata": {},
   "outputs": [
    {
     "name": "stdout",
     "output_type": "stream",
     "text": [
      "Start downloading assets for item:  S1A_IW_GRDH_1SDV_20231211T031751_20231211T031816_051601_063AE5\n",
      "Downloaded asset: vh\n",
      "Downloaded asset: vv\n",
      "Downloaded asset: thumbnail\n",
      "Downloaded asset: safe-manifest\n",
      "Downloaded asset: schema-noise-vh\n",
      "Downloaded asset: schema-noise-vv\n",
      "Downloaded asset: schema-product-vh\n",
      "Downloaded asset: schema-product-vv\n",
      "Downloaded asset: schema-calibration-vh\n",
      "Downloaded asset: schema-calibration-vv\n",
      "Downloaded asset: tilejson\n",
      "Downloaded asset: rendered_preview\n"
     ]
    },
    {
     "data": {
      "text/plain": [
       "[PosixPath('/p/project/hai_wemonitor/S2LS/src/sentinel_download/sentinel-1/S1A_IW_GRDH_1SDV_20231211T031751_20231211T031816_051601_063AE5_vh.tiff'),\n",
       " PosixPath('/p/project/hai_wemonitor/S2LS/src/sentinel_download/sentinel-1/S1A_IW_GRDH_1SDV_20231211T031751_20231211T031816_051601_063AE5_vv.tiff'),\n",
       " PosixPath('/p/project/hai_wemonitor/S2LS/src/sentinel_download/sentinel-1/S1A_IW_GRDH_1SDV_20231211T031751_20231211T031816_051601_063AE5_thumbnail.png'),\n",
       " PosixPath('/p/project/hai_wemonitor/S2LS/src/sentinel_download/sentinel-1/S1A_IW_GRDH_1SDV_20231211T031751_20231211T031816_051601_063AE5_safe-manifest.xsl'),\n",
       " PosixPath('/p/project/hai_wemonitor/S2LS/src/sentinel_download/sentinel-1/S1A_IW_GRDH_1SDV_20231211T031751_20231211T031816_051601_063AE5_schema-noise-vh.xsl'),\n",
       " PosixPath('/p/project/hai_wemonitor/S2LS/src/sentinel_download/sentinel-1/S1A_IW_GRDH_1SDV_20231211T031751_20231211T031816_051601_063AE5_schema-noise-vv.xsl'),\n",
       " PosixPath('/p/project/hai_wemonitor/S2LS/src/sentinel_download/sentinel-1/S1A_IW_GRDH_1SDV_20231211T031751_20231211T031816_051601_063AE5_schema-product-vh.xsl'),\n",
       " PosixPath('/p/project/hai_wemonitor/S2LS/src/sentinel_download/sentinel-1/S1A_IW_GRDH_1SDV_20231211T031751_20231211T031816_051601_063AE5_schema-product-vv.xsl'),\n",
       " PosixPath('/p/project/hai_wemonitor/S2LS/src/sentinel_download/sentinel-1/S1A_IW_GRDH_1SDV_20231211T031751_20231211T031816_051601_063AE5_schema-calibration-vh.xsl'),\n",
       " PosixPath('/p/project/hai_wemonitor/S2LS/src/sentinel_download/sentinel-1/S1A_IW_GRDH_1SDV_20231211T031751_20231211T031816_051601_063AE5_schema-calibration-vv.xsl'),\n",
       " PosixPath('/p/project/hai_wemonitor/S2LS/src/sentinel_download/sentinel-1/S1A_IW_GRDH_1SDV_20231211T031751_20231211T031816_051601_063AE5_tilejson.json'),\n",
       " PosixPath('/p/project/hai_wemonitor/S2LS/src/sentinel_download/sentinel-1/S1A_IW_GRDH_1SDV_20231211T031751_20231211T031816_051601_063AE5_rendered_preview.png')]"
      ]
     },
     "execution_count": 5,
     "metadata": {},
     "output_type": "execute_result"
    }
   ],
   "source": [
    "# Download all assets of items in specific folder, which will be created in cwd\n",
    "pc.download_all_assets(items=[items[0]], output_dir=\"sentinel-1\")"
   ]
  },
  {
   "cell_type": "code",
   "execution_count": 6,
   "metadata": {},
   "outputs": [
    {
     "name": "stdout",
     "output_type": "stream",
     "text": [
      "Start downloading assets for item:  S1A_IW_GRDH_1SDV_20231211T031751_20231211T031816_051601_063AE5\n",
      "Downloaded asset: vv\n",
      "Start downloading assets for item:  S1A_IW_GRDH_1SDV_20231211T031726_20231211T031751_051601_063AE5\n",
      "Downloaded asset: vv\n"
     ]
    },
    {
     "data": {
      "text/plain": [
       "[PosixPath('/p/project/hai_wemonitor/S2LS/src/sentinel_download/S1A_IW_GRDH_1SDV_20231211T031751_20231211T031816_051601_063AE5_vv.tiff'),\n",
       " PosixPath('/p/project/hai_wemonitor/S2LS/src/sentinel_download/S1A_IW_GRDH_1SDV_20231211T031726_20231211T031751_051601_063AE5_vv.tiff')]"
      ]
     },
     "execution_count": 6,
     "metadata": {},
     "output_type": "execute_result"
    }
   ],
   "source": [
    "# Download only VV of all items - for single items please use [items[0]]\n",
    "pc.download_specific_assets(items=items, custom_assets=[\"vv\"])"
   ]
  }
 ],
 "metadata": {
  "kernelspec": {
   "display_name": "sat_preprocess",
   "language": "python",
   "name": "python3"
  },
  "language_info": {
   "codemirror_mode": {
    "name": "ipython",
    "version": 3
   },
   "file_extension": ".py",
   "mimetype": "text/x-python",
   "name": "python",
   "nbconvert_exporter": "python",
   "pygments_lexer": "ipython3",
   "version": "3.12.0"
  }
 },
 "nbformat": 4,
 "nbformat_minor": 2
}
